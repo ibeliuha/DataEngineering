{
 "cells": [
  {
   "cell_type": "code",
   "execution_count": 1,
   "id": "892f4301",
   "metadata": {},
   "outputs": [],
   "source": [
    "from pyspark.sql import SparkSession\n",
    "import pyspark.sql.functions as F\n",
    "from pyspark.sql.window import Window\n",
    "from pyspark.sql.types import StringType, BooleanType\n",
    "\n",
    "import psycopg2\n",
    "from hdfs import InsecureClient"
   ]
  },
  {
   "cell_type": "code",
   "execution_count": null,
   "id": "8464f98d",
   "metadata": {},
   "outputs": [],
   "source": [
    "pg_url = \"jdbc:postgresql://192.168.31.218:5432/pagila\"\n",
    "pg_properties = {'user':input('enter user name: '), 'password':input('enter password: ')}"
   ]
  },
  {
   "cell_type": "code",
   "execution_count": 3,
   "id": "dad8e06b",
   "metadata": {},
   "outputs": [],
   "source": [
    "spark = SparkSession.builder\\\n",
    "    .config('spark.driver.extraClassPath', '/home/user/shared_folder/postgresql-42.2.20.jar')\\\n",
    "    .master('local')\\\n",
    "    .appName('homework_6')\\\n",
    "    .getOrCreate()"
   ]
  },
  {
   "cell_type": "code",
   "execution_count": 4,
   "id": "b95cee7e",
   "metadata": {},
   "outputs": [],
   "source": [
    "#loading all tables needed for a task\n",
    "category_df = spark.read.jdbc(pg_url, \"public.category\", properties=pg_properties)\n",
    "film_category_df = spark.read.jdbc(pg_url, \"public.film_category\", properties=pg_properties)\n",
    "actor_df = spark.read.jdbc(pg_url, \"public.actor\", properties=pg_properties)\n",
    "film_actor_df = spark.read.jdbc(pg_url, \"public.film_actor\", properties=pg_properties)\n",
    "inventory_df = spark.read.jdbc(pg_url, \"public.inventory\", properties=pg_properties)\n",
    "rental_df = spark.read.jdbc(pg_url, \"public.rental\", properties=pg_properties)\n",
    "payment_df = spark.read.jdbc(pg_url, \"public.payment\", properties=pg_properties)\n",
    "film_df = spark.read.jdbc(pg_url, \"public.film\", properties=pg_properties)\n",
    "customer_df = spark.read.jdbc(pg_url, \"public.customer\", properties=pg_properties)\n",
    "address_df = spark.read.jdbc(pg_url, \"public.address\", properties=pg_properties)\n",
    "city_df = spark.read.jdbc(pg_url, \"public.city\", properties=pg_properties)"
   ]
  },
  {
   "cell_type": "markdown",
   "id": "43d6012c",
   "metadata": {},
   "source": [
    "## Task 1\n",
    "вывести количество фильмов в каждой категории, отсортировать по убыванию"
   ]
  },
  {
   "cell_type": "code",
   "execution_count": 5,
   "id": "952d4c9b",
   "metadata": {},
   "outputs": [
    {
     "name": "stdout",
     "output_type": "stream",
     "text": [
      "+-----------+-----+\n",
      "|       name|count|\n",
      "+-----------+-----+\n",
      "|     Sports|   74|\n",
      "|    Foreign|   73|\n",
      "|     Family|   69|\n",
      "|Documentary|   68|\n",
      "|  Animation|   66|\n",
      "|     Action|   64|\n",
      "|        New|   63|\n",
      "|      Drama|   62|\n",
      "|     Sci-Fi|   61|\n",
      "|      Games|   61|\n",
      "|   Children|   60|\n",
      "|     Comedy|   58|\n",
      "|     Travel|   57|\n",
      "|   Classics|   57|\n",
      "|     Horror|   56|\n",
      "|      Music|   51|\n",
      "+-----------+-----+\n",
      "\n"
     ]
    }
   ],
   "source": [
    "category_df\\\n",
    "    .join(film_category_df, on=['category_id'])\\\n",
    "    .select('name')\\\n",
    "    .groupBy('name')\\\n",
    "    .count()\\\n",
    "    .orderBy('count',ascending=False)\\\n",
    "    .show()"
   ]
  },
  {
   "cell_type": "markdown",
   "id": "cf639a12",
   "metadata": {},
   "source": [
    "## Task 2\n",
    "вывести 10 актеров, чьи фильмы большего всего арендовали, отсортировать по убыванию."
   ]
  },
  {
   "cell_type": "code",
   "execution_count": 6,
   "id": "812de349",
   "metadata": {},
   "outputs": [
    {
     "name": "stdout",
     "output_type": "stream",
     "text": [
      "+--------+----------+-----------+-----+\n",
      "|actor_id|first_name|  last_name|count|\n",
      "+--------+----------+-----------+-----+\n",
      "|     107|      GINA|  DEGENERES|  753|\n",
      "|     181|   MATTHEW|     CARREY|  678|\n",
      "|     198|      MARY|     KEITEL|  674|\n",
      "|     144|    ANGELA|WITHERSPOON|  654|\n",
      "|     102|    WALTER|       TORN|  640|\n",
      "|      60|     HENRY|      BERRY|  612|\n",
      "|     150|     JAYNE|      NOLTE|  611|\n",
      "|      37|       VAL|     BOLGER|  605|\n",
      "|      23|    SANDRA|     KILMER|  604|\n",
      "|      90|      SEAN|    GUINESS|  599|\n",
      "+--------+----------+-----------+-----+\n",
      "\n"
     ]
    }
   ],
   "source": [
    "actor_df\\\n",
    "    .join(film_actor_df, on=['actor_id'], how='inner')\\\n",
    "    .join(inventory_df, on=['film_id'], how='inner')\\\n",
    "    .join(rental_df, on=['inventory_id'], how='inner')\\\n",
    "    .select('actor_id','first_name', 'last_name')\\\n",
    "    .groupBy('actor_id','first_name', 'last_name')\\\n",
    "    .count()\\\n",
    "    .orderBy('count', ascending=False)\\\n",
    "    .limit(10)\\\n",
    "    .show()"
   ]
  },
  {
   "cell_type": "markdown",
   "id": "34805684",
   "metadata": {},
   "source": [
    "## Task 3\n",
    "вывести категорию фильмов, на которую потратили больше всего денег"
   ]
  },
  {
   "cell_type": "code",
   "execution_count": 7,
   "id": "45359422",
   "metadata": {},
   "outputs": [
    {
     "name": "stdout",
     "output_type": "stream",
     "text": [
      "+------+------------+\n",
      "|  name|total amount|\n",
      "+------+------------+\n",
      "|Sports|     5314.21|\n",
      "+------+------------+\n",
      "\n"
     ]
    }
   ],
   "source": [
    "payment_df\\\n",
    "    .join(rental_df, on=['rental_id'], how='inner')\\\n",
    "    .join(inventory_df, on=['inventory_id'], how='inner')\\\n",
    "    .join(film_category_df, on=['film_id'], how='inner')\\\n",
    "    .join(category_df, on=['category_id'], how='inner')\\\n",
    "    .select('name','amount')\\\n",
    "    .groupBy('name')\\\n",
    "    .agg(F.sum('amount').alias('total amount'))\\\n",
    "    .orderBy('total amount', ascending=False)\\\n",
    "    .limit(1)\\\n",
    "    .show()"
   ]
  },
  {
   "cell_type": "markdown",
   "id": "28cfabbe",
   "metadata": {},
   "source": [
    "## Task 4\n",
    "вывести названия фильмов, которых нет в inventory."
   ]
  },
  {
   "cell_type": "code",
   "execution_count": 8,
   "id": "48c36377",
   "metadata": {},
   "outputs": [
    {
     "name": "stdout",
     "output_type": "stream",
     "text": [
      "+--------------------+\n",
      "|               title|\n",
      "+--------------------+\n",
      "|      CHOCOLATE DUCK|\n",
      "|       BUTCH PANTHER|\n",
      "|        VOLUME HOUSE|\n",
      "|      ORDER BETRAYED|\n",
      "|        TADPOLE PARK|\n",
      "|    KILL BROTHERHOOD|\n",
      "|FRANKENSTEIN STRA...|\n",
      "|    CROSSING DIVORCE|\n",
      "|    SUICIDES SILENCE|\n",
      "|       CATCH AMISTAD|\n",
      "|     PERDITION FARGO|\n",
      "|       FLOATS GARDEN|\n",
      "|           GUMP DATE|\n",
      "|        WALLS ARTIST|\n",
      "|  GLADIATOR WESTWARD|\n",
      "|         HOCUS FRIDA|\n",
      "|ARSENIC INDEPENDENCE|\n",
      "|         MUPPET MILE|\n",
      "|   FIREHOUSE VIETNAM|\n",
      "|       ROOF CHAMPION|\n",
      "+--------------------+\n",
      "only showing top 20 rows\n",
      "\n"
     ]
    }
   ],
   "source": [
    "film_df\\\n",
    "    .join(inventory_df, on=['film_id'], how='left')\\\n",
    "    .filter(F.col('inventory_id').isNull())\\\n",
    "    .select('title')\\\n",
    "    .show()"
   ]
  },
  {
   "cell_type": "markdown",
   "id": "01fc5f42",
   "metadata": {},
   "source": [
    "## Task 5\n",
    "вывести топ 3 актеров, которые больше всего появлялись в фильмах в категории “Children”. Если у нескольких актеров одинаковое кол-во фильмов, вывести всех.."
   ]
  },
  {
   "cell_type": "code",
   "execution_count": 9,
   "id": "284fc0dd",
   "metadata": {},
   "outputs": [
    {
     "name": "stdout",
     "output_type": "stream",
     "text": [
      "+----------+---------+-----+\n",
      "|first_name|last_name|count|\n",
      "+----------+---------+-----+\n",
      "|     HELEN|   VOIGHT|    7|\n",
      "|     RALPH|     CRUZ|    5|\n",
      "|    WHOOPI|     HURT|    5|\n",
      "|      MARY|    TANDY|    5|\n",
      "|     KEVIN|  GARLAND|    5|\n",
      "|     SUSAN|    DAVIS|    4|\n",
      "|  SCARLETT|    DAMON|    4|\n",
      "|     ELLEN|  PRESLEY|    4|\n",
      "|       VAL|   BOLGER|    4|\n",
      "|       UMA|     WOOD|    4|\n",
      "|      JADA|    RYDER|    4|\n",
      "|   KIRSTEN|   AKROYD|    4|\n",
      "|     JAYNE|    NOLTE|    4|\n",
      "|     RENEE|     BALL|    4|\n",
      "|      ALAN| DREYFUSS|    4|\n",
      "|    SANDRA|   KILMER|    4|\n",
      "| SYLVESTER|     DERN|    4|\n",
      "| CHRISTIAN|   AKROYD|    4|\n",
      "|      JANE|  JACKMAN|    4|\n",
      "+----------+---------+-----+\n",
      "\n"
     ]
    }
   ],
   "source": [
    "w = Window()\n",
    "film_actor_df\\\n",
    "        .join(film_category_df, on=['film_id'], how='inner')\\\n",
    "        .join(category_df, on=['category_id'], how='inner')\\\n",
    "        .filter(F.col('name')=='Children')\\\n",
    "        .select('actor_id')\\\n",
    "        .groupBy('actor_id')\\\n",
    "        .count()\\\n",
    "        .withColumn('rank', F.dense_rank().over(w.orderBy(F.col('count').desc())))\\\n",
    "        .join(actor_df, on=['actor_id'], how='inner')\\\n",
    "        .filter(F.col('rank')<4)\\\n",
    "        .select('first_name','last_name', 'count')\\\n",
    "        .orderBy('count', ascending=False)\\\n",
    "        .show()"
   ]
  },
  {
   "cell_type": "markdown",
   "id": "99757aa7",
   "metadata": {},
   "source": [
    "## Task 6\n",
    "вывести города с количеством активных и неактивных клиентов (активный — customer.active = 1). Отсортировать по количеству неактивных клиентов по убыванию."
   ]
  },
  {
   "cell_type": "code",
   "execution_count": 10,
   "id": "de9fb796",
   "metadata": {},
   "outputs": [
    {
     "name": "stdout",
     "output_type": "stream",
     "text": [
      "+---------------+-----------+------------+\n",
      "|           city|a_customers|na_customers|\n",
      "+---------------+-----------+------------+\n",
      "|         London|          2|           0|\n",
      "|         Aurora|          2|           0|\n",
      "|       Fengshan|          1|           0|\n",
      "|           Linz|          1|           0|\n",
      "|       Chisinau|          1|           0|\n",
      "|            Oyo|          1|           0|\n",
      "|        Udaipur|          1|           0|\n",
      "|       Myingyan|          1|           0|\n",
      "|        El Alto|          1|           0|\n",
      "|       Salzburg|          1|           0|\n",
      "|   Juiz de Fora|          1|           0|\n",
      "|    Sultanbeyli|          1|           0|\n",
      "|        Esfahan|          1|           0|\n",
      "|         Monywa|          1|           0|\n",
      "|         Jining|          1|           0|\n",
      "|      Mit Ghamr|          1|           0|\n",
      "| Dhule (Dhulia)|          1|           0|\n",
      "|        Tanauan|          1|           0|\n",
      "|       Sogamoso|          1|           0|\n",
      "|Jastrzebie-Zdrj|          1|           0|\n",
      "+---------------+-----------+------------+\n",
      "only showing top 20 rows\n",
      "\n"
     ]
    }
   ],
   "source": [
    "customer_df\\\n",
    "    .join(address_df, on=['address_id'], how='inner')\\\n",
    "    .join(city_df, on=['city_id'], how='inner')\\\n",
    "    .select('city','active')\\\n",
    "    .groupBy('city')\\\n",
    "    .agg(F.sum('active').alias('a_customers'), F.sum(1-F.col('active')).alias('na_customers'))\\\n",
    "    .orderBy('a_customers', ascending=False)\\\n",
    "    .show()"
   ]
  },
  {
   "cell_type": "markdown",
   "id": "4bf2f6d6",
   "metadata": {},
   "source": [
    "## Task 7\n",
    "вывести категорию фильмов, у которой самое большое кол-во часов суммарной аренды в городах (customer.address_id в этом city), и которые начинаются на букву “a”. То же самое сделать для городов в которых есть символ “-”."
   ]
  },
  {
   "cell_type": "code",
   "execution_count": 11,
   "id": "8bd20992",
   "metadata": {},
   "outputs": [
    {
     "name": "stdout",
     "output_type": "stream",
     "text": [
      "CONTAINS HYPHEN\n",
      "+-------+-------------+\n",
      "|   name|watched_hours|\n",
      "+-------+-------------+\n",
      "|Foreign|      6472.15|\n",
      "+-------+-------------+\n",
      "\n",
      "STARTS WITH \"A\"\n",
      "+------+------------------+\n",
      "|  name|     watched_hours|\n",
      "+------+------------------+\n",
      "|Sports|12360.350000000002|\n",
      "+------+------------------+\n",
      "\n"
     ]
    }
   ],
   "source": [
    "city_type_map_1 = F.udf(lambda x: x[0].lower()=='a', BooleanType())\n",
    "city_type_map_2 = F.udf(lambda x: '-' in x, BooleanType())\n",
    "\n",
    "main_df = category_df\\\n",
    "            .join(film_category_df, on=['category_id'], how='inner')\\\n",
    "            .join(inventory_df, on=['film_id'], how='inner')\\\n",
    "            .join(\n",
    "                rental_df.select('inventory_id','customer_id', ((F.col('return_date').cast('long')-F.col('rental_date').cast('long'))/3600).alias('watched_hours')), \n",
    "                on=['inventory_id'], \n",
    "                how='inner')\\\n",
    "            .join(customer_df, on=['customer_id'], how='inner')\\\n",
    "            .join(address_df, on=['address_id'], how='inner')\\\n",
    "            .join(\n",
    "                city_df.select('city_id','city',city_type_map_1(F.col('city')).alias('starts_with_a'), city_type_map_2(F.col('city')).alias('contains_hyphen')),\n",
    "                on=['city_id'],\n",
    "                how='inner')\\\n",
    "            .filter(F.col('starts_with_a') | F.col('contains_hyphen'))\\\n",
    "            .select('name', 'starts_with_a', 'contains_hyphen', 'watched_hours')\n",
    "print('CONTAINS HYPHEN')\n",
    "main_df\\\n",
    "        .filter(F.col('contains_hyphen')==True)\\\n",
    "        .select('name', 'watched_hours')\\\n",
    "        .groupBy('name')\\\n",
    "        .agg(F.sum('watched_hours').alias('watched_hours'))\\\n",
    "        .orderBy('watched_hours', ascending=False)\\\n",
    "        .limit(1)\\\n",
    "        .show()\n",
    "print('STARTS WITH \"A\"')\n",
    "main_df\\\n",
    "        .filter(F.col('starts_with_a')==True)\\\n",
    "        .select('name', 'watched_hours')\\\n",
    "        .groupBy('name')\\\n",
    "        .agg(F.sum('watched_hours').alias('watched_hours'))\\\n",
    "        .orderBy('watched_hours', ascending=False)\\\n",
    "        .limit(1)\\\n",
    "        .show()"
   ]
  },
  {
   "cell_type": "code",
   "execution_count": null,
   "id": "cb5803aa",
   "metadata": {},
   "outputs": [],
   "source": []
  }
 ],
 "metadata": {
  "kernelspec": {
   "display_name": "Python 3",
   "language": "python",
   "name": "python3"
  },
  "language_info": {
   "codemirror_mode": {
    "name": "ipython",
    "version": 3
   },
   "file_extension": ".py",
   "mimetype": "text/x-python",
   "name": "python",
   "nbconvert_exporter": "python",
   "pygments_lexer": "ipython3",
   "version": "3.8.8"
  }
 },
 "nbformat": 4,
 "nbformat_minor": 5
}
